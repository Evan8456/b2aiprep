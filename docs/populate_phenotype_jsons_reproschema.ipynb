{
 "cells": [
  {
   "cell_type": "markdown",
   "metadata": {},
   "source": [
    "Update the phenotype JSONs based on the converted RedCap."
   ]
  },
  {
   "cell_type": "code",
   "execution_count": 1,
   "metadata": {},
   "outputs": [],
   "source": [
    "from b2aiprep.prepare import update_phenotype_jsons"
   ]
  },
  {
   "cell_type": "code",
   "execution_count": null,
   "metadata": {},
   "outputs": [],
   "source": [
    "\n",
    "# get this repo: https://github.com/sensein/b2ai-redcap2rs.git\n",
    "b2ai_redcap2rs_activities_dir=\"<path to b2ai-redcap2rs>\"\n",
    "phenotype_dir=\"../src/b2aiprep/prepare/resources/b2ai-data-bids-like-template/phenotype\"\n",
    "update_phenotype_jsons(b2ai_redcap2rs_activities_dir=b2ai_redcap2rs_activities_dir, phenotype_dir=phenotype_dir)"
   ]
  }
 ],
 "metadata": {
  "kernelspec": {
   "display_name": ".venv",
   "language": "python",
   "name": "python3"
  },
  "language_info": {
   "codemirror_mode": {
    "name": "ipython",
    "version": 3
   },
   "file_extension": ".py",
   "mimetype": "text/x-python",
   "name": "python",
   "nbconvert_exporter": "python",
   "pygments_lexer": "ipython3",
   "version": "3.10.7"
  }
 },
 "nbformat": 4,
 "nbformat_minor": 2
}
